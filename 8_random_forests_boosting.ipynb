{
 "cells": [
  {
   "attachments": {},
   "cell_type": "markdown",
   "metadata": {},
   "source": [
    "# Random Forests and Boosting\n",
    "\n",
    "These methods use trees as building blocks to build more complex models.\n",
    "Here we will use the Boston housing data to explore Random Forests and Boosting.\n",
    "These data are in the `MASS` package.\n",
    "It gives housing values and other statistics in each of 506 suburbs of Boston\n",
    "based on a 1970 census.\n"
   ]
  },
  {
   "attachments": {},
   "cell_type": "markdown",
   "metadata": {},
   "source": [
    "## Random Forests\n",
    "\n",
    "Random forests build lots of bushy trees, and then average them to reduce the\n",
    "variance.\n"
   ]
  },
  {
   "cell_type": "code",
   "execution_count": 1,
   "metadata": {
    "vscode": {
     "languageId": "r"
    }
   },
   "outputs": [
    {
     "name": "stderr",
     "output_type": "stream",
     "text": [
      "Loading required package: randomForest\n",
      "\n",
      "randomForest 4.7-1.1\n",
      "\n",
      "Type rfNews() to see new features/changes/bug fixes.\n",
      "\n",
      "Loading required package: MASS\n",
      "\n"
     ]
    }
   ],
   "source": [
    "if (!require(randomForest)) {\n",
    "    install.packages(\"randomForest\")\n",
    "}\n",
    "require(MASS)\n",
    "set.seed(101)\n"
   ]
  },
  {
   "cell_type": "code",
   "execution_count": 2,
   "metadata": {
    "vscode": {
     "languageId": "r"
    }
   },
   "outputs": [
    {
     "data": {
      "text/html": [
       "<style>\n",
       ".list-inline {list-style: none; margin:0; padding: 0}\n",
       ".list-inline>li {display: inline-block}\n",
       ".list-inline>li:not(:last-child)::after {content: \"\\00b7\"; padding: 0 .5ex}\n",
       "</style>\n",
       "<ol class=list-inline><li>506</li><li>14</li></ol>\n"
      ],
      "text/latex": [
       "\\begin{enumerate*}\n",
       "\\item 506\n",
       "\\item 14\n",
       "\\end{enumerate*}\n"
      ],
      "text/markdown": [
       "1. 506\n",
       "2. 14\n",
       "\n",
       "\n"
      ],
      "text/plain": [
       "[1] 506  14"
      ]
     },
     "metadata": {},
     "output_type": "display_data"
    },
    {
     "name": "stdout",
     "output_type": "stream",
     "text": [
      "Boston                  package:MASS                   R Documentation\n",
      "\n",
      "_\bH_\bo_\bu_\bs_\bi_\bn_\bg _\bV_\ba_\bl_\bu_\be_\bs _\bi_\bn _\bS_\bu_\bb_\bu_\br_\bb_\bs _\bo_\bf _\bB_\bo_\bs_\bt_\bo_\bn\n",
      "\n",
      "_\bD_\be_\bs_\bc_\br_\bi_\bp_\bt_\bi_\bo_\bn:\n",
      "\n",
      "     The 'Boston' data frame has 506 rows and 14 columns.\n",
      "\n",
      "_\bU_\bs_\ba_\bg_\be:\n",
      "\n",
      "     Boston\n",
      "     \n",
      "_\bF_\bo_\br_\bm_\ba_\bt:\n",
      "\n",
      "     This data frame contains the following columns:\n",
      "\n",
      "     'crim' per capita crime rate by town.\n",
      "\n",
      "     'zn' proportion of residential land zoned for lots over 25,000\n",
      "          sq.ft.\n",
      "\n",
      "     'indus' proportion of non-retail business acres per town.\n",
      "\n",
      "     'chas' Charles River dummy variable (= 1 if tract bounds river; 0\n",
      "          otherwise).\n",
      "\n",
      "     'nox' nitrogen oxides concentration (parts per 10 million).\n",
      "\n",
      "     'rm' average number of rooms per dwelling.\n",
      "\n",
      "     'age' proportion of owner-occupied units built prior to 1940.\n",
      "\n",
      "     'dis' weighted mean of distances to five Boston employment\n",
      "          centres.\n",
      "\n",
      "     'rad' index of accessibility to radial highways.\n",
      "\n",
      "     'tax' full-value property-tax rate per $10,000.\n",
      "\n",
      "     'ptratio' pupil-teacher ratio by town.\n",
      "\n",
      "     'black' 1000(Bk - 0.63)^2 where Bk is the proportion of blacks by\n",
      "          town.\n",
      "\n",
      "     'lstat' lower status of the population (percent).\n",
      "\n",
      "     'medv' median value of owner-occupied homes in $1000s.\n",
      "\n",
      "_\bS_\bo_\bu_\br_\bc_\be:\n",
      "\n",
      "     Harrison, D. and Rubinfeld, D.L. (1978) Hedonic prices and the\n",
      "     demand for clean air.  _J. Environ. Economics and Management_ *5*,\n",
      "     81-102.\n",
      "\n",
      "     Belsley D.A., Kuh, E.  and Welsch, R.E. (1980) _Regression\n",
      "     Diagnostics. Identifying Influential Data and Sources of\n",
      "     Collinearity._ New York: Wiley.\n"
     ]
    }
   ],
   "source": [
    "dim(Boston)\n",
    "train <- sample(1:nrow(Boston), 300)\n",
    "?Boston\n"
   ]
  },
  {
   "cell_type": "code",
   "execution_count": 3,
   "metadata": {
    "vscode": {
     "languageId": "r"
    }
   },
   "outputs": [
    {
     "data": {
      "text/plain": [
       "\n",
       "Call:\n",
       " randomForest(formula = medv ~ ., data = Boston, subset = train) \n",
       "               Type of random forest: regression\n",
       "                     Number of trees: 500\n",
       "No. of variables tried at each split: 4\n",
       "\n",
       "          Mean of squared residuals: 12.68651\n",
       "                    % Var explained: 83.45"
      ]
     },
     "metadata": {},
     "output_type": "display_data"
    }
   ],
   "source": [
    "# Lets fit a random forest and see how well it performs. We will use the\n",
    "# Response `medv`, the median housing value (in \\$1k dollars)\n",
    "rf.boston <- randomForest(medv ~ ., data = Boston, subset = train)\n",
    "# Very fast. Grew 500 trees. MSR is out of bag MSR - So each observation\n",
    "# was predicted using the average of trees that didn't include it.\n",
    "rf.boston\n"
   ]
  },
  {
   "attachments": {},
   "cell_type": "markdown",
   "metadata": {},
   "source": [
    "The MSR and % variance explained are based on OOB _out-of-bag_ estimates, a\n",
    "very clever device in random forests to get honest error estimates. The model\n",
    "reports that `mtry=4`, which is the number of variables randomly chosen at each\n",
    "split. Since $p=13$ here, we could try all 13 possible valies of `mtry`. We will\n",
    "do so, record the results, and make a plot.\n"
   ]
  },
  {
   "cell_type": "code",
   "execution_count": 8,
   "metadata": {
    "vscode": {
     "languageId": "r"
    }
   },
   "outputs": [
    {
     "name": "stdout",
     "output_type": "stream",
     "text": [
      "1  2  3  4  5  6  7  8  9  10  11  12  13  "
     ]
    },
    {
     "data": {
      "image/png": "[encoded data removed]",
      "text/plain": [
       "plot without title"
      ]
     },
     "metadata": {
      "image/png": {
       "height": 420,
       "width": 420
      }
     },
     "output_type": "display_data"
    }
   ],
   "source": [
    "# 13 variables (columns)\n",
    "num_responses <- ncol(Boston) - 1\n",
    "oob.error <- double(num_responses)\n",
    "test.err <- double(num_responses)\n",
    "for (mtry in 1:num_responses) {\n",
    "    fit <- randomForest(medv ~ ., data = Boston, subset = train, mtry = mtry, ntree = 400)\n",
    "    oob.error[mtry] <- fit$mse[400]\n",
    "    pred <- predict(fit, Boston[-train, ])\n",
    "    # Compute mean squared error.\n",
    "    test.err[mtry] <- with(Boston[-train, ], mean((medv - pred)^2))\n",
    "    cat(mtry, \" \")\n",
    "}\n",
    "# Plot two cbinded two column matrix of test.err and oob.error.\n",
    "matplot(1:mtry, cbind(test.err, oob.error), pch = 19, col = c(\"red\", \"blue\"), type = \"b\", ylab = \"Mean Squared Error\")\n",
    "legend(\"topright\", legend = c(\"OOB\", \"Test\"), pch = 19, col = c(\"red\", \"blue\"))\n"
   ]
  },
  {
   "attachments": {},
   "cell_type": "markdown",
   "metadata": {},
   "source": [
    "Not too difficult! These are estimates based on data, and so have their own\n",
    "standard errors (which are typically quite large). Notice that the points at\n",
    "the end with `mtry=13` correspond to bagging.\n",
    "As we learned, randomForests reduce the variance of the\n",
    "trees by averaging. So it grows big bushy trees, and then gets rid of the\n",
    "variance by averaging.\n"
   ]
  },
  {
   "attachments": {},
   "cell_type": "markdown",
   "metadata": {},
   "source": [
    "# Boosting\n",
    "\n",
    "Boosting builds lots of smaller trees. Unlike random random forests, each new tree\n",
    "in boosting tries to patch up the deficiencies of the current ensemble.\n"
   ]
  },
  {
   "cell_type": "code",
   "execution_count": 15,
   "metadata": {
    "vscode": {
     "languageId": "r"
    }
   },
   "outputs": [
    {
     "data": {
      "text/html": [
       "<table class=\"dataframe\">\n",
       "<caption>A data.frame: 13 × 2</caption>\n",
       "<thead>\n",
       "\t<tr><th></th><th scope=col>var</th><th scope=col>rel.inf</th></tr>\n",
       "\t<tr><th></th><th scope=col>&lt;chr&gt;</th><th scope=col>&lt;dbl&gt;</th></tr>\n",
       "</thead>\n",
       "<tbody>\n",
       "\t<tr><th scope=row>lstat</th><td>lstat  </td><td>36.4866142</td></tr>\n",
       "\t<tr><th scope=row>rm</th><td>rm     </td><td>28.4502536</td></tr>\n",
       "\t<tr><th scope=row>dis</th><td>dis    </td><td> 9.8539620</td></tr>\n",
       "\t<tr><th scope=row>crim</th><td>crim   </td><td> 5.9365686</td></tr>\n",
       "\t<tr><th scope=row>age</th><td>age    </td><td> 4.6736462</td></tr>\n",
       "\t<tr><th scope=row>nox</th><td>nox    </td><td> 4.3118303</td></tr>\n",
       "\t<tr><th scope=row>black</th><td>black  </td><td> 3.1692824</td></tr>\n",
       "\t<tr><th scope=row>ptratio</th><td>ptratio</td><td> 2.2933697</td></tr>\n",
       "\t<tr><th scope=row>tax</th><td>tax    </td><td> 2.2534591</td></tr>\n",
       "\t<tr><th scope=row>indus</th><td>indus  </td><td> 1.4939290</td></tr>\n",
       "\t<tr><th scope=row>rad</th><td>rad    </td><td> 0.8522947</td></tr>\n",
       "\t<tr><th scope=row>zn</th><td>zn     </td><td> 0.2061262</td></tr>\n",
       "\t<tr><th scope=row>chas</th><td>chas   </td><td> 0.0186640</td></tr>\n",
       "</tbody>\n",
       "</table>\n"
      ],
      "text/latex": [
       "A data.frame: 13 × 2\n",
       "\\begin{tabular}{r|ll}\n",
       "  & var & rel.inf\\\\\n",
       "  & <chr> & <dbl>\\\\\n",
       "\\hline\n",
       "\tlstat & lstat   & 36.4866142\\\\\n",
       "\trm & rm      & 28.4502536\\\\\n",
       "\tdis & dis     &  9.8539620\\\\\n",
       "\tcrim & crim    &  5.9365686\\\\\n",
       "\tage & age     &  4.6736462\\\\\n",
       "\tnox & nox     &  4.3118303\\\\\n",
       "\tblack & black   &  3.1692824\\\\\n",
       "\tptratio & ptratio &  2.2933697\\\\\n",
       "\ttax & tax     &  2.2534591\\\\\n",
       "\tindus & indus   &  1.4939290\\\\\n",
       "\trad & rad     &  0.8522947\\\\\n",
       "\tzn & zn      &  0.2061262\\\\\n",
       "\tchas & chas    &  0.0186640\\\\\n",
       "\\end{tabular}\n"
      ],
      "text/markdown": [
       "\n",
       "A data.frame: 13 × 2\n",
       "\n",
       "| <!--/--> | var &lt;chr&gt; | rel.inf &lt;dbl&gt; |\n",
       "|---|---|---|\n",
       "| lstat | lstat   | 36.4866142 |\n",
       "| rm | rm      | 28.4502536 |\n",
       "| dis | dis     |  9.8539620 |\n",
       "| crim | crim    |  5.9365686 |\n",
       "| age | age     |  4.6736462 |\n",
       "| nox | nox     |  4.3118303 |\n",
       "| black | black   |  3.1692824 |\n",
       "| ptratio | ptratio |  2.2933697 |\n",
       "| tax | tax     |  2.2534591 |\n",
       "| indus | indus   |  1.4939290 |\n",
       "| rad | rad     |  0.8522947 |\n",
       "| zn | zn      |  0.2061262 |\n",
       "| chas | chas    |  0.0186640 |\n",
       "\n"
      ],
      "text/plain": [
       "        var     rel.inf   \n",
       "lstat   lstat   36.4866142\n",
       "rm      rm      28.4502536\n",
       "dis     dis      9.8539620\n",
       "crim    crim     5.9365686\n",
       "age     age      4.6736462\n",
       "nox     nox      4.3118303\n",
       "black   black    3.1692824\n",
       "ptratio ptratio  2.2933697\n",
       "tax     tax      2.2534591\n",
       "indus   indus    1.4939290\n",
       "rad     rad      0.8522947\n",
       "zn      zn       0.2061262\n",
       "chas    chas     0.0186640"
      ]
     },
     "metadata": {},
     "output_type": "display_data"
    },
    {
     "data": {
      "image/png": "[encoded data removed]",
      "text/plain": [
       "plot without title"
      ]
     },
     "metadata": {
      "image/png": {
       "height": 420,
       "width": 420
      }
     },
     "output_type": "display_data"
    },
    {
     "data": {
      "image/png": "[encoded data removed]",
      "text/plain": [
       "plot without title"
      ]
     },
     "metadata": {
      "image/png": {
       "height": 420,
       "width": 420
      }
     },
     "output_type": "display_data"
    },
    {
     "data": {
      "image/png": "[encoded data removed]",
      "text/plain": [
       "plot without title"
      ]
     },
     "metadata": {
      "image/png": {
       "height": 420,
       "width": 420
      }
     },
     "output_type": "display_data"
    }
   ],
   "source": [
    "# gbm: Gradient Boosted Machines\n",
    "if (!require(gbm)) {\n",
    "    install.packages(\"gbm\")\n",
    "}\n",
    "# GBM asks for the distribution, which is Gaussian, because we're doing\n",
    "# squared error loss.\n",
    "# We're going to ask gbm for 10k trees whcih sounds like a lot, but\n",
    "# these are going to be shallow trees.\n",
    "# interaction.depth is the number of splits, we only want 4 splits for shallow trees.\n",
    "# shrinkage is how much we're going to shrink the trees back.\n",
    "boost.boston <- gbm(medv ~ ., data = Boston[train, ], distribution = \"gaussian\", n.trees = 10000, shrinkage = 0.01, interaction.depth = 4)\n",
    "# Gives a variable-importance plot.\n",
    "# There's two important variables, the number of rooms and lstat which is the\n",
    "# percentage of lower economic status people in the community.\n",
    "summary(boost.boston)\n",
    "# Plot shows us that the higher the proportion of the lower status people\n",
    "# in the suburb, the lower the value of the house. Not a big surprise there.\n",
    "plot(boost.boston, i = \"lstat\")\n",
    "# Reverse relationship with the number of rooms in the house. As the number\n",
    "# of rooms in the house increases, the price increases.\n",
    "plot(boost.boston, i = \"rm\")\n"
   ]
  },
  {
   "attachments": {},
   "cell_type": "markdown",
   "metadata": {},
   "source": [
    "Let's make a prediction on the test set. With boosting, the number of trees is a\n",
    "runing parameter, and if we have too many we can overfit. So we should use cross-validation\n",
    "to select the number of trees. We will leave this as an exercise. Instead, we will compute\n",
    "the test error as a function of the number of trees, and make a plot.\n"
   ]
  },
  {
   "cell_type": "code",
   "execution_count": 27,
   "metadata": {
    "vscode": {
     "languageId": "r"
    }
   },
   "outputs": [
    {
     "data": {
      "text/html": [
       "<style>\n",
       ".list-inline {list-style: none; margin:0; padding: 0}\n",
       ".list-inline>li {display: inline-block}\n",
       ".list-inline>li:not(:last-child)::after {content: \"\\00b7\"; padding: 0 .5ex}\n",
       "</style>\n",
       "<ol class=list-inline><li>206</li><li>100</li></ol>\n"
      ],
      "text/latex": [
       "\\begin{enumerate*}\n",
       "\\item 206\n",
       "\\item 100\n",
       "\\end{enumerate*}\n"
      ],
      "text/markdown": [
       "1. 206\n",
       "2. 100\n",
       "\n",
       "\n"
      ],
      "text/plain": [
       "[1] 206 100"
      ]
     },
     "metadata": {},
     "output_type": "display_data"
    },
    {
     "data": {
      "image/png": "[encoded data removed]",
      "text/plain": [
       "Plot with title \"Boosting Test Error\""
      ]
     },
     "metadata": {
      "image/png": {
       "height": 420,
       "width": 420
      }
     },
     "output_type": "display_data"
    }
   ],
   "source": [
    "n.trees <- seq(from = 100, to = 10000, by = 100)\n",
    "# Run prediciton on boost model.\n",
    "predmat <- predict(boost.boston, newdata = Boston[-train, ], n.trees = n.trees)\n",
    "# 206 test observations, 100 different predict vectors\n",
    "# at those 100 different values of tree.\n",
    "dim(predmat)\n",
    "# predmat is a matrix and medv is a vector, so apply here just recycles the vector.\n",
    "# a bit of trickery. So predmat - medv is actually a matrix of differences.\n",
    "# and then we apply to these columns, the square differences of mean to compute the\n",
    "# column-wise mean squared error.\n",
    "berr <- with(Boston[-train, ], apply((predmat - medv)^2, 2, mean))\n",
    "# Boosting error plot: pretty much drops down and drops down lower\n",
    "# than the randomForest. This is as a function of the number of trees.\n",
    "# And then it seems to level off, and it doesn't appear to be increasing.\n",
    "# If you really ramped up the number of trees to a much bigger number,\n",
    "# it would slowly start to increase. But this is evidence of the claim that\n",
    "# boosting is reluctant to overfit.\n",
    "plot(n.trees, berr, pch = 19, ylab = \"Mean Squared Error\", xlab = \"# Trees\", main = \"Boosting Test Error\")\n",
    "# Include the best test error from the randomForest\n",
    "abline(h = min(test.err), col = \"red\")\n",
    "# We see that boosting actually got a reasonable amount below the\n",
    "# test error for the randomForest.\n"
   ]
  },
  {
   "attachments": {},
   "cell_type": "markdown",
   "metadata": {},
   "source": [
    "Our experience is that boosting, especially if you're willing to go through the\n",
    "tweaking and the tuning, will usually outperform randomForests. But randomForests\n",
    "are really dead easy. They won't overfit. The only tuning parameter is the mtry.\n",
    "But when I say they were won't overfit, by being increasing the number of trees\n",
    "in randomForest, it won't overfit. It'll just, once it stabilizes, it's stabilized.\n",
    "And adding more trees doesn't make much difference. With boosting, not the case.\n",
    "You've got genuine tuning parameters, the number of trees, the shrinkage\n",
    "parameter, and the depth. But both very powerful methods.\n"
   ]
  }
 ],
 "metadata": {
  "kernelspec": {
   "display_name": "R",
   "language": "R",
   "name": "ir"
  },
  "language_info": {
   "codemirror_mode": "r",
   "file_extension": ".r",
   "mimetype": "text/x-r-source",
   "name": "R",
   "pygments_lexer": "r",
   "version": "4.2.2"
  },
  "orig_nbformat": 4,
  "vscode": {
   "interpreter": {
    "hash": "57a2c62f5ebb885bd65fdeee27bb7002fd309d84f482b8d3b28fa15895d48287"
   }
  }
 },
 "nbformat": 4,
 "nbformat_minor": 2
}
