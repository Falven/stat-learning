{
 "cells": [
  {
   "cell_type": "markdown",
   "metadata": {},
   "source": [
    "# Linear Discriminant Analysis"
   ]
  },
  {
   "cell_type": "code",
   "execution_count": 1,
   "metadata": {
    "vscode": {
     "languageId": "r"
    }
   },
   "outputs": [
    {
     "name": "stderr",
     "output_type": "stream",
     "text": [
      "Loading required package: ISLR\n",
      "\n",
      "Loading required package: MASS\n",
      "\n"
     ]
    }
   ],
   "source": [
    "require(ISLR)\n",
    "require(MASS)"
   ]
  },
  {
   "cell_type": "code",
   "execution_count": 11,
   "metadata": {
    "vscode": {
     "languageId": "r"
    }
   },
   "outputs": [
    {
     "data": {
      "text/plain": [
       "Call:\n",
       "lda(Direction ~ Lag1 + Lag2, data = Smarket, subset = Year < \n",
       "    2005)\n",
       "\n",
       "Prior probabilities of groups:\n",
       "    Down       Up \n",
       "0.491984 0.508016 \n",
       "\n",
       "Group means:\n",
       "            Lag1        Lag2\n",
       "Down  0.04279022  0.03389409\n",
       "Up   -0.03954635 -0.03132544\n",
       "\n",
       "Coefficients of linear discriminants:\n",
       "            LD1\n",
       "Lag1 -0.6420190\n",
       "Lag2 -0.5135293"
      ]
     },
     "metadata": {},
     "output_type": "display_data"
    }
   ],
   "source": [
    "# Response is direction, 2 predictors Lag1 and 2.\n",
    "# Data is coming from Stock Market\n",
    "# Subset is years less than 2005 because later on we'll make predictions\n",
    "lda.fit <- lda(Direction ~ Lag1 + Lag2, data = Smarket, subset = Year < 2005)\n",
    "# Prior probabilities are proportions of ups and downs in the dataset.\n",
    "# (Roughly 50%) which says something about the market, it's pretty random, half\n",
    "# The time it goes up, half the time it goes down.\n",
    "# It summarizes the group means for the two groups.\n",
    "# Then it gives the LDA coefficients. Linear function for separating the two groups.\n",
    "lda.fit\n"
   ]
  },
  {
   "cell_type": "code",
   "execution_count": 12,
   "metadata": {
    "vscode": {
     "languageId": "r"
    }
   },
   "outputs": [
    {
     "data": {
      "image/png": "[encoded data removed]",
      "text/plain": [
       "plot without title"
      ]
     },
     "metadata": {
      "image/png": {
       "height": 420,
       "width": 420
      }
     },
     "output_type": "display_data"
    }
   ],
   "source": [
    "# Two group histograms look very similar... No surprise, it's not easy to predict the stock market.\n",
    "plot(lda.fit)"
   ]
  },
  {
   "cell_type": "code",
   "execution_count": 14,
   "metadata": {
    "vscode": {
     "languageId": "r"
    }
   },
   "outputs": [],
   "source": [
    "# See how well our rule predicts on the year 2005\n",
    "# First param is the dataset, Stock Market...\n",
    "# Second param is logical expressions that can\n",
    "# use the variables in that dataframe to define the subset.\n",
    "Smarket.2005 <- subset(Smarket, Year == 2005)\n"
   ]
  },
  {
   "cell_type": "code",
   "execution_count": 21,
   "metadata": {
    "vscode": {
     "languageId": "r"
    }
   },
   "outputs": [
    {
     "ename": "ERROR",
     "evalue": "Error in lda.pred[1:5, ]: incorrect number of dimensions\n",
     "output_type": "error",
     "traceback": [
      "Error in lda.pred[1:5, ]: incorrect number of dimensions\nTraceback:\n"
     ]
    }
   ],
   "source": [
    "# Use that as the test data; call predict.\n",
    "lda.pred <- predict(lda.fit, Smarket.2005)\n",
    "# Print the first 5 of these.\n",
    "lda.pred[1:5,]"
   ]
  },
  {
   "cell_type": "code",
   "execution_count": 20,
   "metadata": {
    "vscode": {
     "languageId": "r"
    }
   },
   "outputs": [
    {
     "data": {
      "text/html": [
       "'list'"
      ],
      "text/latex": [
       "'list'"
      ],
      "text/markdown": [
       "'list'"
      ],
      "text/plain": [
       "[1] \"list\""
      ]
     },
     "metadata": {},
     "output_type": "display_data"
    },
    {
     "data": {
      "text/html": [
       "<table class=\"dataframe\">\n",
       "<caption>A data.frame: 5 × 4</caption>\n",
       "<thead>\n",
       "\t<tr><th></th><th scope=col>class</th><th scope=col>posterior.Down</th><th scope=col>posterior.Up</th><th scope=col>LD1</th></tr>\n",
       "\t<tr><th></th><th scope=col>&lt;fct&gt;</th><th scope=col>&lt;dbl&gt;</th><th scope=col>&lt;dbl&gt;</th><th scope=col>&lt;dbl&gt;</th></tr>\n",
       "</thead>\n",
       "<tbody>\n",
       "\t<tr><th scope=row>999</th><td>Up</td><td>0.4901792</td><td>0.5098208</td><td> 0.08293096</td></tr>\n",
       "\t<tr><th scope=row>1000</th><td>Up</td><td>0.4792185</td><td>0.5207815</td><td> 0.59114102</td></tr>\n",
       "\t<tr><th scope=row>1001</th><td>Up</td><td>0.4668185</td><td>0.5331815</td><td> 1.16723063</td></tr>\n",
       "\t<tr><th scope=row>1002</th><td>Up</td><td>0.4740011</td><td>0.5259989</td><td> 0.83335022</td></tr>\n",
       "\t<tr><th scope=row>1003</th><td>Up</td><td>0.4927877</td><td>0.5072123</td><td>-0.03792892</td></tr>\n",
       "</tbody>\n",
       "</table>\n"
      ],
      "text/latex": [
       "A data.frame: 5 × 4\n",
       "\\begin{tabular}{r|llll}\n",
       "  & class & posterior.Down & posterior.Up & LD1\\\\\n",
       "  & <fct> & <dbl> & <dbl> & <dbl>\\\\\n",
       "\\hline\n",
       "\t999 & Up & 0.4901792 & 0.5098208 &  0.08293096\\\\\n",
       "\t1000 & Up & 0.4792185 & 0.5207815 &  0.59114102\\\\\n",
       "\t1001 & Up & 0.4668185 & 0.5331815 &  1.16723063\\\\\n",
       "\t1002 & Up & 0.4740011 & 0.5259989 &  0.83335022\\\\\n",
       "\t1003 & Up & 0.4927877 & 0.5072123 & -0.03792892\\\\\n",
       "\\end{tabular}\n"
      ],
      "text/markdown": [
       "\n",
       "A data.frame: 5 × 4\n",
       "\n",
       "| <!--/--> | class &lt;fct&gt; | posterior.Down &lt;dbl&gt; | posterior.Up &lt;dbl&gt; | LD1 &lt;dbl&gt; |\n",
       "|---|---|---|---|---|\n",
       "| 999 | Up | 0.4901792 | 0.5098208 |  0.08293096 |\n",
       "| 1000 | Up | 0.4792185 | 0.5207815 |  0.59114102 |\n",
       "| 1001 | Up | 0.4668185 | 0.5331815 |  1.16723063 |\n",
       "| 1002 | Up | 0.4740011 | 0.5259989 |  0.83335022 |\n",
       "| 1003 | Up | 0.4927877 | 0.5072123 | -0.03792892 |\n",
       "\n"
      ],
      "text/plain": [
       "     class posterior.Down posterior.Up LD1        \n",
       "999  Up    0.4901792      0.5098208     0.08293096\n",
       "1000 Up    0.4792185      0.5207815     0.59114102\n",
       "1001 Up    0.4668185      0.5331815     1.16723063\n",
       "1002 Up    0.4740011      0.5259989     0.83335022\n",
       "1003 Up    0.4927877      0.5072123    -0.03792892"
      ]
     },
     "metadata": {},
     "output_type": "display_data"
    }
   ],
   "source": [
    "# Oops, result is a list, let's cast to a Data Frame to look.\n",
    "class(lda.pred)\n",
    "data.frame(lda.pred)[1:5,] "
   ]
  },
  {
   "cell_type": "code",
   "execution_count": 22,
   "metadata": {
    "vscode": {
     "languageId": "r"
    }
   },
   "outputs": [
    {
     "data": {
      "text/plain": [
       "      \n",
       "       Down  Up\n",
       "  Down   35  35\n",
       "  Up     76 106"
      ]
     },
     "metadata": {},
     "output_type": "display_data"
    }
   ],
   "source": [
    "# Table of the class as the prediction vs the true value as the response.\n",
    "table(lda.pred$class, Smarket.2005$Direction)\n",
    "# We get a confusion matrix which tells us which downs were classified as down,\n",
    "# which downs were classified as up, and the diagonal elements which are the\n",
    "# correct classification."
   ]
  },
  {
   "cell_type": "code",
   "execution_count": 29,
   "metadata": {
    "vscode": {
     "languageId": "r"
    }
   },
   "outputs": [
    {
     "data": {
      "text/html": [
       "0.55952380952381"
      ],
      "text/latex": [
       "0.55952380952381"
      ],
      "text/markdown": [
       "0.55952380952381"
      ],
      "text/plain": [
       "[1] 0.5595238"
      ]
     },
     "metadata": {},
     "output_type": "display_data"
    }
   ],
   "source": [
    "# Predicted class is equal to the true class\n",
    "# Trues and falses can be coerced to be 1 or 0, so we can take the mean of that.\n",
    "mean(lda.pred$class == Smarket.2005$Direction)\n",
    "# Not huge, but in this kind of industry any little edge helps."
   ]
  }
 ],
 "metadata": {
  "kernelspec": {
   "display_name": "R",
   "language": "R",
   "name": "ir"
  },
  "language_info": {
   "codemirror_mode": "r",
   "file_extension": ".r",
   "mimetype": "text/x-r-source",
   "name": "R",
   "pygments_lexer": "r",
   "version": "4.2.2"
  },
  "orig_nbformat": 4
 },
 "nbformat": 4,
 "nbformat_minor": 2
}
