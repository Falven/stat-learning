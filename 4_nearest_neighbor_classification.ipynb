{
 "cells": [
  {
   "attachments": {},
   "cell_type": "markdown",
   "metadata": {},
   "source": [
    "# K Nearest neighbor classification\n",
    "It's one of those tools that's a very simple classification rule,\n",
    "but it's effective a lot of the time. Some experts have written that\n",
    "k-nearest neighbors do the best about one third of the time; and\n",
    "it's so simple that, in the game of doing classification,\n",
    "you always want to have k-nearest neighbors in your toolbox."
   ]
  },
  {
   "cell_type": "code",
   "execution_count": 15,
   "metadata": {
    "vscode": {
     "languageId": "r"
    }
   },
   "outputs": [],
   "source": [
    "require(ISLR)\n",
    "require(class)\n",
    "# ?knn"
   ]
  },
  {
   "cell_type": "code",
   "execution_count": 20,
   "metadata": {
    "vscode": {
     "languageId": "r"
    }
   },
   "outputs": [
    {
     "name": "stderr",
     "output_type": "stream",
     "text": [
      "The following objects are masked from Smarket (pos = 3):\n",
      "\n",
      "    Direction, Lag1, Lag2, Lag3, Lag4, Lag5, Today, Volume, Year\n",
      "\n",
      "\n",
      "The following objects are masked from Smarket (pos = 4):\n",
      "\n",
      "    Direction, Lag1, Lag2, Lag3, Lag4, Lag5, Today, Volume, Year\n",
      "\n",
      "\n",
      "The following objects are masked from Smarket (pos = 5):\n",
      "\n",
      "    Direction, Lag1, Lag2, Lag3, Lag4, Lag5, Today, Volume, Year\n",
      "\n",
      "\n",
      "The following objects are masked from Smarket (pos = 6):\n",
      "\n",
      "    Direction, Lag1, Lag2, Lag3, Lag4, Lag5, Today, Volume, Year\n",
      "\n",
      "\n",
      "The following objects are masked from Smarket (pos = 7):\n",
      "\n",
      "    Direction, Lag1, Lag2, Lag3, Lag4, Lag5, Today, Volume, Year\n",
      "\n",
      "\n",
      "The following objects are masked from Smarket (pos = 8):\n",
      "\n",
      "    Direction, Lag1, Lag2, Lag3, Lag4, Lag5, Today, Volume, Year\n",
      "\n",
      "\n",
      "The following objects are masked from Smarket (pos = 9):\n",
      "\n",
      "    Direction, Lag1, Lag2, Lag3, Lag4, Lag5, Today, Volume, Year\n",
      "\n",
      "\n",
      "The following objects are masked from Smarket (pos = 10):\n",
      "\n",
      "    Direction, Lag1, Lag2, Lag3, Lag4, Lag5, Today, Volume, Year\n",
      "\n",
      "\n",
      "The following objects are masked from Smarket (pos = 11):\n",
      "\n",
      "    Direction, Lag1, Lag2, Lag3, Lag4, Lag5, Today, Volume, Year\n",
      "\n",
      "\n",
      "The following objects are masked from Smarket (pos = 12):\n",
      "\n",
      "    Direction, Lag1, Lag2, Lag3, Lag4, Lag5, Today, Volume, Year\n",
      "\n",
      "\n"
     ]
    },
    {
     "data": {
      "text/html": [],
      "text/latex": [],
      "text/markdown": [],
      "text/plain": [
       "character(0)"
      ]
     },
     "metadata": {},
     "output_type": "display_data"
    },
    {
     "data": {
      "text/html": [
       "<style>\n",
       ".list-inline {list-style: none; margin:0; padding: 0}\n",
       ".list-inline>li {display: inline-block}\n",
       ".list-inline>li:not(:last-child)::after {content: \"\\00b7\"; padding: 0 .5ex}\n",
       "</style>\n",
       "<ol class=list-inline><li>'Direction'</li><li>'Lag1'</li><li>'Lag2'</li><li>'Lag3'</li><li>'Lag4'</li><li>'Lag5'</li><li>'Today'</li><li>'Volume'</li><li>'Year'</li></ol>\n"
      ],
      "text/latex": [
       "\\begin{enumerate*}\n",
       "\\item 'Direction'\n",
       "\\item 'Lag1'\n",
       "\\item 'Lag2'\n",
       "\\item 'Lag3'\n",
       "\\item 'Lag4'\n",
       "\\item 'Lag5'\n",
       "\\item 'Today'\n",
       "\\item 'Volume'\n",
       "\\item 'Year'\n",
       "\\end{enumerate*}\n"
      ],
      "text/markdown": [
       "1. 'Direction'\n",
       "2. 'Lag1'\n",
       "3. 'Lag2'\n",
       "4. 'Lag3'\n",
       "5. 'Lag4'\n",
       "6. 'Lag5'\n",
       "7. 'Today'\n",
       "8. 'Volume'\n",
       "9. 'Year'\n",
       "\n",
       "\n"
      ],
      "text/plain": [
       "[1] \"Direction\" \"Lag1\"      \"Lag2\"      \"Lag3\"      \"Lag4\"      \"Lag5\"     \n",
       "[7] \"Today\"     \"Volume\"    \"Year\"     "
      ]
     },
     "metadata": {},
     "output_type": "display_data"
    }
   ],
   "source": [
    "# And recall when you attach a data frame, it makes available\n",
    "# the variables on the data frame by name in your frame.\n",
    "attach(Smarket)\n",
    "ls()\n",
    "objects(2)"
   ]
  },
  {
   "cell_type": "code",
   "execution_count": 25,
   "metadata": {
    "vscode": {
     "languageId": "r"
    }
   },
   "outputs": [
    {
     "data": {
      "text/html": [
       "<table class=\"dataframe\">\n",
       "<caption>A matrix: 5 × 2 of type dbl</caption>\n",
       "<thead>\n",
       "\t<tr><th scope=col>Lag1</th><th scope=col>Lag2</th></tr>\n",
       "</thead>\n",
       "<tbody>\n",
       "\t<tr><td> 0.381</td><td>-0.192</td></tr>\n",
       "\t<tr><td> 0.959</td><td> 0.381</td></tr>\n",
       "\t<tr><td> 1.032</td><td> 0.959</td></tr>\n",
       "\t<tr><td>-0.623</td><td> 1.032</td></tr>\n",
       "\t<tr><td> 0.614</td><td>-0.623</td></tr>\n",
       "</tbody>\n",
       "</table>\n"
      ],
      "text/latex": [
       "A matrix: 5 × 2 of type dbl\n",
       "\\begin{tabular}{ll}\n",
       " Lag1 & Lag2\\\\\n",
       "\\hline\n",
       "\t  0.381 & -0.192\\\\\n",
       "\t  0.959 &  0.381\\\\\n",
       "\t  1.032 &  0.959\\\\\n",
       "\t -0.623 &  1.032\\\\\n",
       "\t  0.614 & -0.623\\\\\n",
       "\\end{tabular}\n"
      ],
      "text/markdown": [
       "\n",
       "A matrix: 5 × 2 of type dbl\n",
       "\n",
       "| Lag1 | Lag2 |\n",
       "|---|---|\n",
       "|  0.381 | -0.192 |\n",
       "|  0.959 |  0.381 |\n",
       "|  1.032 |  0.959 |\n",
       "| -0.623 |  1.032 |\n",
       "|  0.614 | -0.623 |\n",
       "\n"
      ],
      "text/plain": [
       "     Lag1   Lag2  \n",
       "[1,]  0.381 -0.192\n",
       "[2,]  0.959  0.381\n",
       "[3,]  1.032  0.959\n",
       "[4,] -0.623  1.032\n",
       "[5,]  0.614 -0.623"
      ]
     },
     "metadata": {},
     "output_type": "display_data"
    }
   ],
   "source": [
    "# Makes a matrix of two columns, lag1 and lag2.\n",
    "xlag <- cbind(Lag1, Lag2)\n",
    "# Let's look at the first five rows and all columns \",\" of this matrix.\n",
    "xlag[1:5, ]"
   ]
  },
  {
   "cell_type": "code",
   "execution_count": 33,
   "metadata": {
    "vscode": {
     "languageId": "r"
    }
   },
   "outputs": [],
   "source": [
    "# Binary variable of trues or falses depending on whether the variable year\n",
    "# was less than 2005\n",
    "train <- Year < 2005\n",
    "\n",
    "# Run our KNN with training observations, test observations (!train),\n",
    "# the response is Direction[train], and k = 1 says\n",
    "# we want one nearest neighbor classification.\n",
    "# What the algorithm does is say, to classify a new observation, you go\n",
    "# into the training set in the x space, the feature space, and you look\n",
    "# for the training observation that's closest to your test point in\n",
    "# euclidean distance and you classify to it's class.\n",
    "knn.pred <- knn(xlag[train, ], xlag[!train, ], Direction[train], k = 1)\n"
   ]
  },
  {
   "cell_type": "code",
   "execution_count": 36,
   "metadata": {
    "vscode": {
     "languageId": "r"
    }
   },
   "outputs": [
    {
     "data": {
      "text/plain": [
       "        \n",
       "knn.pred Down Up\n",
       "    Down   43 58\n",
       "    Up     68 83"
      ]
     },
     "metadata": {},
     "output_type": "display_data"
    },
    {
     "data": {
      "text/html": [
       "0.5"
      ],
      "text/latex": [
       "0.5"
      ],
      "text/markdown": [
       "0.5"
      ],
      "text/plain": [
       "[1] 0.5"
      ]
     },
     "metadata": {},
     "output_type": "display_data"
    }
   ],
   "source": [
    "# Make a table of our prediction and the true response.\n",
    "table(knn.pred, Direction[!train])\n",
    "# Look at the classification performance there\n",
    "mean(knn.pred == Direction[!train])\n",
    "# And it's exactly .5, so it's useless, 1nn did no better than flipping a coin.\n",
    "# One could proceed and try nearest neighbors with multiple values of k..."
   ]
  }
 ],
 "metadata": {
  "kernelspec": {
   "display_name": "R",
   "language": "R",
   "name": "ir"
  },
  "language_info": {
   "codemirror_mode": "r",
   "file_extension": ".r",
   "mimetype": "text/x-r-source",
   "name": "R",
   "pygments_lexer": "r",
   "version": "4.2.2"
  },
  "orig_nbformat": 4,
  "vscode": {
   "interpreter": {
    "hash": "57a2c62f5ebb885bd65fdeee27bb7002fd309d84f482b8d3b28fa15895d48287"
   }
  }
 },
 "nbformat": 4,
 "nbformat_minor": 2
}
