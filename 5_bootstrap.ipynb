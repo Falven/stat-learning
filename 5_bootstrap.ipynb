{
 "cells": [
  {
   "attachments": {},
   "cell_type": "markdown",
   "metadata": {},
   "source": [
    "# Bootstrap\n",
    "Let's you get at the sampling distribution of statistics for which it's really hard\n",
    "to develop theoretical versions. Ity gives us an easy way of doing statistics when\n",
    "the theory is really hard.\n",
    "\n",
    "Very handy way of getting very good reliable estimates of standard error for nasty statistics.\n",
    "\n",
    "Minimum risk investment - Book 5.2"
   ]
  },
  {
   "cell_type": "code",
   "execution_count": 2,
   "metadata": {
    "vscode": {
     "languageId": "r"
    }
   },
   "outputs": [
    {
     "name": "stderr",
     "output_type": "stream",
     "text": [
      "Loading required package: ISLR\n",
      "\n",
      "Loading required package: boot\n",
      "\n"
     ]
    }
   ],
   "source": [
    "require(ISLR)\n",
    "require(boot)"
   ]
  },
  {
   "cell_type": "code",
   "execution_count": 3,
   "metadata": {
    "vscode": {
     "languageId": "r"
    }
   },
   "outputs": [
    {
     "data": {
      "text/html": [
       "0.57583207459283"
      ],
      "text/latex": [
       "0.57583207459283"
      ],
      "text/markdown": [
       "0.57583207459283"
      ],
      "text/plain": [
       "[1] 0.5758321"
      ]
     },
     "metadata": {},
     "output_type": "display_data"
    }
   ],
   "source": [
    "# two investments, x and y.\n",
    "alpha <- function(x, y) {\n",
    "    # risk is var(x) and var(y)\n",
    "    vx <- var(x)\n",
    "    vy <- var(y)\n",
    "    # covariance of x and y\n",
    "    cxy <- cov(x, y)\n",
    "    # formula for getting a minimum risk investment is:\n",
    "    # alpha = var(y) - covar(x, y) / var(x) + var(y) - 2 * covar(x, y)\n",
    "    (vy - cxy) / (vx + vy - 2 * cxy)\n",
    "}\n",
    "\n",
    "alpha(Portfolio$X, Portfolio$Y)"
   ]
  },
  {
   "cell_type": "code",
   "execution_count": 7,
   "metadata": {
    "vscode": {
     "languageId": "r"
    }
   },
   "outputs": [
    {
     "data": {
      "text/html": [
       "0.57583207459283"
      ],
      "text/latex": [
       "0.57583207459283"
      ],
      "text/markdown": [
       "0.57583207459283"
      ],
      "text/plain": [
       "[1] 0.5758321"
      ]
     },
     "metadata": {},
     "output_type": "display_data"
    }
   ],
   "source": [
    "# What is the standard error of alpha?\n",
    "\n",
    "# In order to use bootstrap.\n",
    "alpha.fn <- function(data, index) {\n",
    "    # using the data in the first parameter, dataframe,\n",
    "    # execute the second parameter command.\n",
    "    with(data[index, ], alpha(X, Y))\n",
    "}\n",
    "\n",
    "alpha.fn(Portfolio, 1:100)\n"
   ]
  },
  {
   "cell_type": "code",
   "execution_count": 8,
   "metadata": {
    "vscode": {
     "languageId": "r"
    }
   },
   "outputs": [
    {
     "data": {
      "text/html": [
       "0.736837501928544"
      ],
      "text/latex": [
       "0.736837501928544"
      ],
      "text/markdown": [
       "0.736837501928544"
      ],
      "text/plain": [
       "[1] 0.7368375"
      ]
     },
     "metadata": {},
     "output_type": "display_data"
    }
   ],
   "source": [
    "# Since the bootstrap involves random sampling, and we want to get reproducible results.\n",
    "set.seed(1)\n",
    "# Run our function but we take a random sample (1-100).\n",
    "# This is what bootstrap does over and over.\n",
    "alpha.fn(Portfolio, sample(1:100, 100, replace = TRUE))"
   ]
  },
  {
   "cell_type": "code",
   "execution_count": 10,
   "metadata": {
    "vscode": {
     "languageId": "r"
    }
   },
   "outputs": [
    {
     "data": {
      "text/plain": [
       "\n",
       "ORDINARY NONPARAMETRIC BOOTSTRAP\n",
       "\n",
       "\n",
       "Call:\n",
       "boot(data = Portfolio, statistic = alpha.fn, R = 1000)\n",
       "\n",
       "\n",
       "Bootstrap Statistics :\n",
       "     original       bias    std. error\n",
       "t1* 0.5758321 -0.001539618  0.08846251"
      ]
     },
     "metadata": {},
     "output_type": "display_data"
    },
    {
     "data": {
      "image/png": "[encoded data removed]",
      "text/plain": [
       "Plot with title \"Histogram of t\""
      ]
     },
     "metadata": {
      "image/png": {
       "height": 420,
       "width": 420
      }
     },
     "output_type": "display_data"
    }
   ],
   "source": [
    "boot.out <- boot(Portfolio, alpha.fn, R = 1000)\n",
    "# We were interested in the standard error, the bias is negligible.\n",
    "boot.out\n",
    "# One is a histogram and it looks like a pretty nice symmetric distribution,\n",
    "# maybe Gaussian. And in fact the second plot is a qqplot, which plots the\n",
    "# ordered values against the ordered statistics of a Gaussian.\n",
    "# And if it lines up on a straight line like it pretty\n",
    "# much does here, you may say it looks close to Gaussian, maybe\n",
    "# a slightly bigger tail on the right.\n",
    "plot(boot.out)\n"
   ]
  }
 ],
 "metadata": {
  "kernelspec": {
   "display_name": "R",
   "language": "R",
   "name": "ir"
  },
  "language_info": {
   "codemirror_mode": "r",
   "file_extension": ".r",
   "mimetype": "text/x-r-source",
   "name": "R",
   "pygments_lexer": "r",
   "version": "4.2.2"
  },
  "orig_nbformat": 4
 },
 "nbformat": 4,
 "nbformat_minor": 2
}
